{
  "nbformat": 4,
  "nbformat_minor": 0,
  "metadata": {
    "colab": {
      "provenance": [],
      "authorship_tag": "ABX9TyOqnk76IycDv0T1yx8tg81K",
      "include_colab_link": true
    },
    "kernelspec": {
      "name": "python3",
      "display_name": "Python 3"
    },
    "language_info": {
      "name": "python"
    }
  },
  "cells": [
    {
      "cell_type": "markdown",
      "metadata": {
        "id": "view-in-github",
        "colab_type": "text"
      },
      "source": [
        "<a href=\"https://colab.research.google.com/github/SKM-8bits/FundProg202520/blob/main/IntroPython202520.ipynb\" target=\"_parent\"><img src=\"https://colab.research.google.com/assets/colab-badge.svg\" alt=\"Open In Colab\"/></a>"
      ]
    },
    {
      "cell_type": "markdown",
      "source": [
        "# Introduccion a Python\n",
        "## Fundamentos de programacion\n",
        "### UPB - Seccional Monteria\n",
        "\n",
        "**Fecha:** 29 de agosto de 2025\n",
        "\n",
        "**Presentado por:**  _Samuel Kerguelen_\n",
        "\n",
        "En la siguente actividad se exploraran los conceptor basicos de Python.\n"
      ],
      "metadata": {
        "id": "LDQlZhm5ZICV"
      }
    },
    {
      "cell_type": "code",
      "execution_count": 3,
      "metadata": {
        "id": "uVdShLXtYCR4"
      },
      "outputs": [],
      "source": [
        "# comentarios\n",
        "# Introduccion a Python\n",
        "# Los comentarios se crean con el # y se utiliza para:\n",
        "# -Dar contexto\n",
        "# -Explicar codigo\n",
        "# -Ignorar codigo (pruebas)"
      ]
    },
    {
      "cell_type": "code",
      "source": [
        "# Print\n",
        "# La funcion Print() se utiliza para imprimir un mensaje en la consola.}\n",
        "print(\"Hola Mundo!\")"
      ],
      "metadata": {
        "colab": {
          "base_uri": "https://localhost:8080/"
        },
        "id": "XVjNUWqdbKNW",
        "outputId": "571c908f-288b-4673-9c7d-e482a4d3c7b4"
      },
      "execution_count": 5,
      "outputs": [
        {
          "output_type": "stream",
          "name": "stdout",
          "text": [
            "Hola Mundo!\n"
          ]
        }
      ]
    },
    {
      "cell_type": "code",
      "source": [
        "# Variables\n",
        "# Se utilizan para \"Almacenar\" datos en memoria.Es una referencia a la dirrecion en memoria donde se almacenan los datos\n",
        "name = \"Samuel\"\n",
        "age = 19\n",
        "heigth = 1.86\n",
        "city = \"monteria\"\n",
        "is_spleeping = False\n",
        "print(name, age, heigth,city,is_spleeping)"
      ],
      "metadata": {
        "colab": {
          "base_uri": "https://localhost:8080/"
        },
        "collapsed": true,
        "id": "oWSKM6pCd7Zc",
        "outputId": "87d178fe-affa-455c-be72-d66f64b134da"
      },
      "execution_count": 10,
      "outputs": [
        {
          "output_type": "stream",
          "name": "stdout",
          "text": [
            "Samuel 19 1.86 monteria False\n"
          ]
        }
      ]
    },
    {
      "cell_type": "code",
      "source": [
        "# Calculos\n",
        "a = 5\n",
        "b = 2.3\n",
        "c = a + b\n",
        "d = a - b\n",
        "e = a * b\n",
        "f = a / b\n",
        "g = a % b # modulo: residuo de la division entera de a entre b\n",
        "h = a ** b # potencia: a elevado a la b\n",
        "print(c)\n",
        "print(d)\n",
        "print(e)\n",
        "print(f)\n",
        "print(g)\n",
        "print(h)"
      ],
      "metadata": {
        "colab": {
          "base_uri": "https://localhost:8080/"
        },
        "id": "ZQHyfpJXe98c",
        "outputId": "78117281-aa6b-47b3-c96d-2bdb018221bf"
      },
      "execution_count": 14,
      "outputs": [
        {
          "output_type": "stream",
          "name": "stdout",
          "text": [
            "7.3\n",
            "2.7\n",
            "11.5\n",
            "2.173913043478261\n",
            "0.40000000000000036\n",
            "40.51641491731905\n"
          ]
        }
      ]
    },
    {
      "cell_type": "code",
      "source": [
        "# Cambio de valores\n",
        "a = 5\n",
        "print(a)\n",
        "a = 10\n",
        "print(a)"
      ],
      "metadata": {
        "colab": {
          "base_uri": "https://localhost:8080/"
        },
        "id": "xeUyfpVXg1eC",
        "outputId": "2d3d95ac-5a7e-4808-c8d5-6dbdf9b6f4ac"
      },
      "execution_count": 15,
      "outputs": [
        {
          "output_type": "stream",
          "name": "stdout",
          "text": [
            "5\n",
            "10\n"
          ]
        }
      ]
    },
    {
      "cell_type": "code",
      "source": [
        "# Concatenacion\n",
        "# Concatenar consiste en unir texto\n",
        "firstname = \"Samuel\"\n",
        "lastname = \"kerguelen\"\n",
        "fullname = firstname + \" \" + lastname\n",
        "print(fullname)\n"
      ],
      "metadata": {
        "colab": {
          "base_uri": "https://localhost:8080/"
        },
        "id": "ZYPAYPF-imMq",
        "outputId": "0538a75a-23ab-4e8c-ddd0-62427be26010"
      },
      "execution_count": 21,
      "outputs": [
        {
          "output_type": "stream",
          "name": "stdout",
          "text": [
            "Samuel kerguelen\n"
          ]
        }
      ]
    },
    {
      "cell_type": "code",
      "source": [
        "# Incrementadores (+=, -=, *=, /=, ...)\n",
        "time = 0\n",
        "print(time)\n",
        "time += 1\n",
        "print(time)\n",
        "time += 2\n",
        "print (time)\n",
        "time -= 4\n",
        "print(time)\n",
        "time *= 5\n",
        "print(time)\n",
        "time /= 6\n",
        "print(time)"
      ],
      "metadata": {
        "colab": {
          "base_uri": "https://localhost:8080/"
        },
        "id": "_ZytIEk_i5ag",
        "outputId": "91d29a97-6d4d-4fe7-ea4c-188cbd2a7511"
      },
      "execution_count": 28,
      "outputs": [
        {
          "output_type": "stream",
          "name": "stdout",
          "text": [
            "0\n",
            "1\n",
            "3\n",
            "-1\n",
            "-5\n",
            "-0.8333333333333334\n"
          ]
        }
      ]
    },
    {
      "cell_type": "code",
      "source": [
        "# Varias lineas de texto\n",
        "song = \"\"\"\n",
        "Daisy, Daisy\n",
        "Give me your answer, do\n",
        "I'm half crazy\n",
        "All for the love of you\n",
        "It won't be a stylish marriage\n",
        "I can't afford a carriage\n",
        "But you'll look sweet upon the seat\n",
        "Of a bicycle built for two\n",
        "\"\"\"\n",
        "print(song)"
      ],
      "metadata": {
        "colab": {
          "base_uri": "https://localhost:8080/"
        },
        "id": "4DOl0nSNkNmM",
        "outputId": "2262a3b3-f2ef-42d4-cde8-a79beff4d117"
      },
      "execution_count": 33,
      "outputs": [
        {
          "output_type": "stream",
          "name": "stdout",
          "text": [
            "\n",
            "Daisy, Daisy\n",
            "Give me your answer, do\n",
            "I'm half crazy\n",
            "All for the love of you\n",
            "It won't be a stylish marriage\n",
            "I can't afford a carriage\n",
            "But you'll look sweet upon the seat\n",
            "Of a bicycle built for two\n",
            "\n"
          ]
        }
      ]
    },
    {
      "cell_type": "code",
      "source": [
        "# Inputs\n",
        "# Se utilizan para gestionar entradas de usuario\n",
        "name = input(\"Hola, ¿cual es tu nombre?\")\n",
        "print(\"Hola\", name, \"mucho gusto\")"
      ],
      "metadata": {
        "colab": {
          "base_uri": "https://localhost:8080/"
        },
        "id": "HyPCtRftlumQ",
        "outputId": "cc8f23b4-25e0-4923-efd4-ddcb9483f03b"
      },
      "execution_count": 36,
      "outputs": [
        {
          "output_type": "stream",
          "name": "stdout",
          "text": [
            "Hola, ¿cual es tu nombre?Samuel\n",
            "Hola Samuel mucho gusto\n"
          ]
        }
      ]
    },
    {
      "cell_type": "code",
      "source": [
        "# calcular_tiempo\n",
        "# programa para calcular el tiempo de caida libre\n",
        "g = 9.81\n",
        "# h = 10 # t = 1.4278\n",
        "# h = 20 # t = 2.019\n",
        "# h = 30 # t = 2.4730\n",
        "h = float(input(\"Ingrese la altura(m): \"))\n",
        "t = (2 * h / g) ** (1 / 2)\n",
        "print(\"el tiempo de caida libre es\", t, \"segundos\")"
      ],
      "metadata": {
        "colab": {
          "base_uri": "https://localhost:8080/"
        },
        "id": "N_Zjpnj4mm4e",
        "outputId": "bcde583c-b820-4fe5-f98f-4fb2fccae42a"
      },
      "execution_count": 48,
      "outputs": [
        {
          "output_type": "stream",
          "name": "stdout",
          "text": [
            "Ingrese la altura(m): 30\n",
            "el tiempo de caida libre es 2.4730968341474897 segundos\n"
          ]
        }
      ]
    },
    {
      "cell_type": "code",
      "source": [
        "# Promedio de creditos\n",
        "# Escriba un programa para calcular y mostrar el numero de creditos inscritos por 3 estudiantes y el promedio de creditos\n",
        "c_1 = float(input(\"ingresar numero de creditos(Cred 1): \"))\n",
        "c_2 = float(input(\"ingresar numero de creditos(Cred 2): \"))\n",
        "c_3 = float(input(\"ingresar numero de creditos(Cred 3): \"))\n",
        "p = c_1 + c_2 + c_3 / 3\n",
        "print(\"el promedio general es\", p)"
      ],
      "metadata": {
        "colab": {
          "base_uri": "https://localhost:8080/"
        },
        "id": "-RFpb9UlodlD",
        "outputId": "a0a19ead-07f6-450d-d95c-00feb408c373"
      },
      "execution_count": 60,
      "outputs": [
        {
          "output_type": "stream",
          "name": "stdout",
          "text": [
            "ingresar nuemro de creditos(Cred 1): 13\n",
            "ingresar nuemro de creditos(Cred 2): 5\n",
            "ingresar nuemro de creditos(Cred 3): 1\n",
            "el promedio general es 18.333333333333332\n"
          ]
        }
      ]
    },
    {
      "cell_type": "code",
      "source": [
        "# calcular_edad\n",
        "año = 2025\n",
        "fecha_nacimiento = int(input(\"Ingresar fecha de nacimiento: \"))\n",
        "edad = año - fecha_nacimiento\n",
        "print(\"su edad es\",edad)"
      ],
      "metadata": {
        "colab": {
          "base_uri": "https://localhost:8080/"
        },
        "id": "sOhW_u5AqVlU",
        "outputId": "1018207b-57da-4d13-b830-b26827f6ee48"
      },
      "execution_count": 67,
      "outputs": [
        {
          "output_type": "stream",
          "name": "stdout",
          "text": [
            "Ingresar fecha de nacimiento: 2005\n",
            "su edad es 20\n"
          ]
        }
      ]
    },
    {
      "cell_type": "code",
      "source": [],
      "metadata": {
        "id": "-DwKr69k4CDY"
      },
      "execution_count": null,
      "outputs": []
    }
  ]
}